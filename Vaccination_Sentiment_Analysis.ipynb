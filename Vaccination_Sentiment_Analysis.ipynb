{
  "nbformat": 4,
  "nbformat_minor": 0,
  "metadata": {
    "colab": {
      "provenance": [],
      "authorship_tag": "ABX9TyOx6WUXgYNSCA6qNy+QXDH3",
      "include_colab_link": true
    },
    "kernelspec": {
      "name": "python3",
      "display_name": "Python 3"
    },
    "language_info": {
      "name": "python"
    }
  },
  "cells": [
    {
      "cell_type": "markdown",
      "metadata": {
        "id": "view-in-github",
        "colab_type": "text"
      },
      "source": [
        "<a href=\"https://colab.research.google.com/github/Antony-6487/Vaccination_Sentiment_Analysis.ipynb/blob/main/Vaccination_Sentiment_Analysis.ipynb\" target=\"_parent\"><img src=\"https://colab.research.google.com/assets/colab-badge.svg\" alt=\"Open In Colab\"/></a>"
      ]
    },
    {
      "cell_type": "code",
      "execution_count": 59,
      "metadata": {
        "id": "UHIkTYBxXEj2"
      },
      "outputs": [],
      "source": [
        "import pandas as pd\n",
        "import re\n",
        "from sklearn.feature_extraction.text import TfidfVectorizer\n",
        "from sklearn.linear_model import LinearRegression\n",
        "import numpy as np"
      ]
    },
    {
      "cell_type": "markdown",
      "source": [
        "Loading the dataset"
      ],
      "metadata": {
        "id": "gOhtI8gxYvbf"
      }
    },
    {
      "cell_type": "code",
      "source": [
        "Test=pd.read_csv('Test.csv')\n",
        "Train=pd.read_csv('Train.csv')\n",
        "SampleSubmission=pd.read_csv('SampleSubmission.csv')"
      ],
      "metadata": {
        "id": "FsvuvCzLYyCy"
      },
      "execution_count": 60,
      "outputs": []
    },
    {
      "cell_type": "markdown",
      "source": [
        "Exploring the DATA"
      ],
      "metadata": {
        "id": "gfK9rfg1ZdmX"
      }
    },
    {
      "cell_type": "code",
      "source": [
        "print(Train.head())"
      ],
      "metadata": {
        "colab": {
          "base_uri": "https://localhost:8080/"
        },
        "id": "YPRw_lleZ0hw",
        "outputId": "43759a9d-36b3-4cf3-a6f9-10c6556cf2bf"
      },
      "execution_count": 61,
      "outputs": [
        {
          "output_type": "stream",
          "name": "stdout",
          "text": [
            "   tweet_id                                          safe_text  label  \\\n",
            "0  CL1KWCMY  Me &amp; The Big Homie meanboy3000 #MEANBOY #M...    0.0   \n",
            "1  E3303EME  I'm 100% thinking of devoting my career to pro...    1.0   \n",
            "2  M4IVFSMS  #whatcausesautism VACCINES, DO NOT VACCINATE Y...   -1.0   \n",
            "3  1DR6ROZ4  I mean if they immunize my kid with something ...   -1.0   \n",
            "4  J77ENIIE  Thanks to <user> Catch me performing at La Nui...    0.0   \n",
            "\n",
            "   agreement  \n",
            "0        1.0  \n",
            "1        1.0  \n",
            "2        1.0  \n",
            "3        1.0  \n",
            "4        1.0  \n"
          ]
        }
      ]
    },
    {
      "cell_type": "code",
      "source": [
        "print(Train.shape, Test.shape)"
      ],
      "metadata": {
        "colab": {
          "base_uri": "https://localhost:8080/"
        },
        "id": "5VMfgo_WF4kh",
        "outputId": "06ceb9fc-8eda-4bb1-b457-5243fdfe564e"
      },
      "execution_count": 62,
      "outputs": [
        {
          "output_type": "stream",
          "name": "stdout",
          "text": [
            "(10001, 4) (5177, 2)\n"
          ]
        }
      ]
    },
    {
      "cell_type": "code",
      "source": [
        "# Checkin sentiment distribution\n",
        "print(Train['label'].value_counts())"
      ],
      "metadata": {
        "colab": {
          "base_uri": "https://localhost:8080/"
        },
        "id": "W00q7v1WaRpg",
        "outputId": "616e5b58-f746-410c-bf8d-589f437948d9"
      },
      "execution_count": 63,
      "outputs": [
        {
          "output_type": "stream",
          "name": "stdout",
          "text": [
            "label\n",
            " 0.000000    4908\n",
            " 1.000000    4053\n",
            "-1.000000    1038\n",
            " 0.666667       1\n",
            "Name: count, dtype: int64\n"
          ]
        }
      ]
    },
    {
      "cell_type": "code",
      "source": [
        "#checking rows with missing labels\n",
        "print(Train.isnull().sum())"
      ],
      "metadata": {
        "colab": {
          "base_uri": "https://localhost:8080/"
        },
        "id": "8iff8PcPIFpd",
        "outputId": "5247fc94-f464-43f4-c37d-d84e69b4d174"
      },
      "execution_count": 64,
      "outputs": [
        {
          "output_type": "stream",
          "name": "stdout",
          "text": [
            "tweet_id     0\n",
            "safe_text    0\n",
            "label        1\n",
            "agreement    2\n",
            "dtype: int64\n"
          ]
        }
      ]
    },
    {
      "cell_type": "code",
      "source": [
        "#dropping rows with missng labels\n",
        "Train=Train.dropna(subset=['label'])"
      ],
      "metadata": {
        "id": "LLS5Q4xcIhQd"
      },
      "execution_count": 65,
      "outputs": []
    },
    {
      "cell_type": "markdown",
      "source": [
        "DATA CLEANING"
      ],
      "metadata": {
        "id": "XYLzfYg7bQL0"
      }
    },
    {
      "cell_type": "code",
      "source": [
        "import nltk\n",
        "from nltk.corpus import stopwords\n",
        "nltk.download('stopwords')\n",
        "stop_words=set(stopwords.words('english'))"
      ],
      "metadata": {
        "colab": {
          "base_uri": "https://localhost:8080/"
        },
        "id": "Mw95OkYKHwFU",
        "outputId": "6c1d2369-efc0-4a53-8166-935c5dffcab6"
      },
      "execution_count": 66,
      "outputs": [
        {
          "output_type": "stream",
          "name": "stderr",
          "text": [
            "[nltk_data] Downloading package stopwords to /root/nltk_data...\n",
            "[nltk_data]   Package stopwords is already up-to-date!\n"
          ]
        }
      ]
    },
    {
      "cell_type": "code",
      "source": [
        "def clean_text(text):\n",
        "  if pd.isnull('text'):\n",
        "    return''"
      ],
      "metadata": {
        "id": "hIDh87SaMymC"
      },
      "execution_count": 68,
      "outputs": []
    },
    {
      "cell_type": "code",
      "source": [
        "\n",
        "\n",
        "basic_stopwords = {\"the\",\"a\",\"an\",\"and\",\"or\",\"in\",\"of\",\"on\",\"for\",\"with\",\"at\",\"by\",\"to\",\"is\",\"are\"}\n",
        "\n",
        "def clean_text(text):\n",
        "    if pd.isnull(text):\n",
        "        return \"\"\n",
        "    text = text.lower()\n",
        "    text = re.sub(r'[^a-z\\s]', '', text)\n",
        "    text = ' '.join(word for word in text.split() if word not in basic_stopwords)\n",
        "    return text\n",
        "\n",
        "\n",
        "\n"
      ],
      "metadata": {
        "id": "rNrnri9MTdAd"
      },
      "execution_count": 69,
      "outputs": []
    },
    {
      "cell_type": "code",
      "source": [
        "Train['clean_text'] = Train['safe_text'].apply(clean_text)\n",
        "Test['clean_text'] = Test['safe_text'].apply(clean_text)"
      ],
      "metadata": {
        "id": "DzfAMyeEWMaK"
      },
      "execution_count": 70,
      "outputs": []
    },
    {
      "cell_type": "code",
      "source": [
        "\n",
        "print(Train[['safe_text', 'clean_text']].head())"
      ],
      "metadata": {
        "colab": {
          "base_uri": "https://localhost:8080/"
        },
        "id": "Bx_YPhdgWgMG",
        "outputId": "4e116bf6-a450-43ca-df1f-edd8b0b7209d"
      },
      "execution_count": 71,
      "outputs": [
        {
          "output_type": "stream",
          "name": "stdout",
          "text": [
            "                                           safe_text  \\\n",
            "0  Me &amp; The Big Homie meanboy3000 #MEANBOY #M...   \n",
            "1  I'm 100% thinking of devoting my career to pro...   \n",
            "2  #whatcausesautism VACCINES, DO NOT VACCINATE Y...   \n",
            "3  I mean if they immunize my kid with something ...   \n",
            "4  Thanks to <user> Catch me performing at La Nui...   \n",
            "\n",
            "                                          clean_text  \n",
            "0  me amp big homie meanboy meanboy mb mbs mmr st...  \n",
            "1  im thinking devoting my career proving autism ...  \n",
            "2  whatcausesautism vaccines do not vaccinate you...  \n",
            "3  i mean if they immunize my kid something that ...  \n",
            "4  thanks user catch me performing la nuit nyc st...  \n"
          ]
        }
      ]
    },
    {
      "cell_type": "code",
      "source": [
        "Train['safe_text'] = Train['safe_text'].fillna('')\n",
        "Test['safe_text'] = Test['safe_text'].fillna('')\n"
      ],
      "metadata": {
        "id": "CKE1hxnQb5EU"
      },
      "execution_count": 72,
      "outputs": []
    },
    {
      "cell_type": "markdown",
      "source": [
        "VECTORIZATION"
      ],
      "metadata": {
        "id": "Isn2meuCWXRw"
      }
    },
    {
      "cell_type": "code",
      "source": [
        "#converting string to numerical data\n",
        "\n",
        "vectorizer = TfidfVectorizer(\n",
        "    max_features=10000,\n",
        "    ngram_range=(1,2),     # unigrams + bigrams\n",
        "    stop_words='english'\n",
        ")\n",
        "\n",
        "X_train = vectorizer.fit_transform(Train['safe_text'])\n",
        "X_test = vectorizer.transform(Test['safe_text'])\n"
      ],
      "metadata": {
        "id": "ge1P5aVNXs3A"
      },
      "execution_count": 79,
      "outputs": []
    },
    {
      "cell_type": "markdown",
      "source": [
        "MODEL TRAINING"
      ],
      "metadata": {
        "id": "YwwFgDW4c4kd"
      }
    },
    {
      "cell_type": "code",
      "source": [
        "from sklearn.linear_model import Ridge\n",
        "from sklearn.metrics import mean_squared_error\n",
        "import numpy as np\n",
        "\n",
        "model = Ridge(alpha=1.0)\n",
        "model.fit(X_train, y_train)\n",
        "\n",
        "y_pred = model.predict(X_train)\n",
        "rmse = np.sqrt(mean_squared_error(y_train, y_pred))\n",
        "print(\"Training RMSE:\", rmse)\n"
      ],
      "metadata": {
        "colab": {
          "base_uri": "https://localhost:8080/"
        },
        "id": "4_ndP4kqk5ok",
        "outputId": "cf00fa29-e7f5-4852-e98a-1111e5cc9c6e"
      },
      "execution_count": 96,
      "outputs": [
        {
          "output_type": "stream",
          "name": "stdout",
          "text": [
            "Training RMSE: 0.39839858588543225\n"
          ]
        }
      ]
    },
    {
      "cell_type": "code",
      "source": [
        "y_train = Train['label']"
      ],
      "metadata": {
        "id": "inALMtq8cCSP"
      },
      "execution_count": 97,
      "outputs": []
    },
    {
      "cell_type": "code",
      "source": [
        "print(y_train.describe())\n"
      ],
      "metadata": {
        "colab": {
          "base_uri": "https://localhost:8080/"
        },
        "id": "i9z0wLaVjI6v",
        "outputId": "88022cd7-b9ea-4194-a848-909848e92370"
      },
      "execution_count": 98,
      "outputs": [
        {
          "output_type": "stream",
          "name": "stdout",
          "text": [
            "count    10000.000000\n",
            "mean         0.301567\n",
            "std          0.646718\n",
            "min         -1.000000\n",
            "25%          0.000000\n",
            "50%          0.000000\n",
            "75%          1.000000\n",
            "max          1.000000\n",
            "Name: label, dtype: float64\n"
          ]
        }
      ]
    },
    {
      "cell_type": "code",
      "source": [
        "submission = pd.DataFrame({\n",
        "    'ID': Test['tweet_id'],\n",
        "    'target': y_pred\n",
        "})\n",
        "\n",
        "submission.to_csv('submission.csv', index=False)\n",
        "print(\"submission.csv created successfully!\")\n"
      ],
      "metadata": {
        "colab": {
          "base_uri": "https://localhost:8080/"
        },
        "id": "cLLbrz5-fsTR",
        "outputId": "0603f1a1-0906-4765-8ad5-6033ecf0d150"
      },
      "execution_count": 94,
      "outputs": [
        {
          "output_type": "stream",
          "name": "stdout",
          "text": [
            "submission.csv created successfully!\n"
          ]
        }
      ]
    },
    {
      "cell_type": "code",
      "source": [
        "from google.colab import files\n",
        "files.download('submission.csv')"
      ],
      "metadata": {
        "colab": {
          "base_uri": "https://localhost:8080/",
          "height": 17
        },
        "id": "s_VllitNgOyP",
        "outputId": "80e8d2a4-506a-4a90-d3ea-77892fd8640e"
      },
      "execution_count": 99,
      "outputs": [
        {
          "output_type": "display_data",
          "data": {
            "text/plain": [
              "<IPython.core.display.Javascript object>"
            ],
            "application/javascript": [
              "\n",
              "    async function download(id, filename, size) {\n",
              "      if (!google.colab.kernel.accessAllowed) {\n",
              "        return;\n",
              "      }\n",
              "      const div = document.createElement('div');\n",
              "      const label = document.createElement('label');\n",
              "      label.textContent = `Downloading \"${filename}\": `;\n",
              "      div.appendChild(label);\n",
              "      const progress = document.createElement('progress');\n",
              "      progress.max = size;\n",
              "      div.appendChild(progress);\n",
              "      document.body.appendChild(div);\n",
              "\n",
              "      const buffers = [];\n",
              "      let downloaded = 0;\n",
              "\n",
              "      const channel = await google.colab.kernel.comms.open(id);\n",
              "      // Send a message to notify the kernel that we're ready.\n",
              "      channel.send({})\n",
              "\n",
              "      for await (const message of channel.messages) {\n",
              "        // Send a message to notify the kernel that we're ready.\n",
              "        channel.send({})\n",
              "        if (message.buffers) {\n",
              "          for (const buffer of message.buffers) {\n",
              "            buffers.push(buffer);\n",
              "            downloaded += buffer.byteLength;\n",
              "            progress.value = downloaded;\n",
              "          }\n",
              "        }\n",
              "      }\n",
              "      const blob = new Blob(buffers, {type: 'application/binary'});\n",
              "      const a = document.createElement('a');\n",
              "      a.href = window.URL.createObjectURL(blob);\n",
              "      a.download = filename;\n",
              "      div.appendChild(a);\n",
              "      a.click();\n",
              "      div.remove();\n",
              "    }\n",
              "  "
            ]
          },
          "metadata": {}
        },
        {
          "output_type": "display_data",
          "data": {
            "text/plain": [
              "<IPython.core.display.Javascript object>"
            ],
            "application/javascript": [
              "download(\"download_613a051f-d87f-451b-b17f-c1e4b911510f\", \"submission.csv\", 148505)"
            ]
          },
          "metadata": {}
        }
      ]
    }
  ]
}